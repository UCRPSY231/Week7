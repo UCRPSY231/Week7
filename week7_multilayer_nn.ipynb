{
 "cells": [
  {
   "cell_type": "markdown",
   "metadata": {},
   "source": [
    "# Multi Layer (Deep) Neural Network"
   ]
  },
  {
   "cell_type": "markdown",
   "metadata": {},
   "source": [
    "## Load MNIST dataset"
   ]
  },
  {
   "cell_type": "code",
   "execution_count": 6,
   "metadata": {
    "collapsed": false
   },
   "outputs": [
    {
     "name": "stdout",
     "output_type": "stream",
     "text": [
      "(1000, 784) (1000,)\n",
      "(100, 784) (100,)\n"
     ]
    }
   ],
   "source": [
    "import pandas as pd\n",
    "import numpy as np\n",
    "\n",
    "names = ['label']\n",
    "feature_names = map(str, range(784))\n",
    "names.extend(feature_names)\n",
    "\n",
    "df_mnist_train = pd.read_csv('mnist_train.csv', header=None, nrows=1000, names=names)\n",
    "df_mnist_test = pd.read_csv('mnist_test.csv', header=None, nrows=100, names=names)\n",
    "\n",
    "# normalize pixel data (otherwise pure python implemention won't work)\n",
    "max_pixel =  255\n",
    "df_mnist_train.iloc[:, 1:] /= max_pixel\n",
    "df_mnist_test.iloc[:, 1:] /= max_pixel\n",
    "\n",
    "\n",
    "# select subset of features and labels \n",
    "\n",
    "X_train, y_train = df_mnist_train.iloc[:, 1:], df_mnist_train['label']\n",
    "X_test, y_test = df_mnist_test.iloc[:, 1:], df_mnist_test['label']\n",
    "\n",
    "print X_train.shape, y_train.shape\n",
    "print X_test.shape, y_test.shape"
   ]
  },
  {
   "cell_type": "markdown",
   "metadata": {},
   "source": [
    "## Part 1: tensorflow implementation"
   ]
  },
  {
   "cell_type": "code",
   "execution_count": 9,
   "metadata": {
    "collapsed": false
   },
   "outputs": [
    {
     "name": "stdout",
     "output_type": "stream",
     "text": [
      "Train accuracy: 0.941999971867\n",
      "Test accuracy: 0.870000004768\n"
     ]
    }
   ],
   "source": [
    "import tensorflow as tf\n",
    "tf.logging.set_verbosity(tf.logging.ERROR)\n",
    "\n",
    "# define model input\n",
    "def input_fn(x, y):\n",
    "    feature_cols = {name: tf.constant(x[name].values) for name in x.columns}\n",
    "    label = tf.constant(y.values)\n",
    "    return feature_cols, label\n",
    "\n",
    "\n",
    "# define features\n",
    "feat_cols = [tf.contrib.layers.real_valued_column(name) for name in X_train.columns]\n",
    "\n",
    "# instantiate and fit model\n",
    "model_2 = tf.contrib.learn.DNNClassifier(hidden_units=[100], feature_columns=feat_cols, n_classes=10) # need to specify n_classes\n",
    "model_2.fit(input_fn=lambda: input_fn(X_train, y_train), steps=100)\n",
    "\n",
    "# evaluate model\n",
    "train_acc = model_2.evaluate(input_fn=lambda: input_fn(X_train, y_train), steps=1)['accuracy']\n",
    "test_acc = model_2.evaluate(input_fn=lambda: input_fn(X_test, y_test), steps=1)['accuracy']\n",
    "print 'Train accuracy: {}'.format(train_acc)\n",
    "print 'Test accuracy: {}'.format(test_acc)"
   ]
  },
  {
   "cell_type": "code",
   "execution_count": null,
   "metadata": {
    "collapsed": true
   },
   "outputs": [],
   "source": []
  }
 ],
 "metadata": {
  "kernelspec": {
   "display_name": "Python 2",
   "language": "python",
   "name": "python2"
  },
  "language_info": {
   "codemirror_mode": {
    "name": "ipython",
    "version": 2
   },
   "file_extension": ".py",
   "mimetype": "text/x-python",
   "name": "python",
   "nbconvert_exporter": "python",
   "pygments_lexer": "ipython2",
   "version": "2.7.6"
  }
 },
 "nbformat": 4,
 "nbformat_minor": 2
}
